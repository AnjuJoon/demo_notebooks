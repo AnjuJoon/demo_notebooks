{
 "cells": [
  {
   "cell_type": "markdown",
   "metadata": {},
   "source": [
    "# DeLong: Teaching Economics\n",
    "\n",
    "Last edited: 2019-10-09"
   ]
  },
  {
   "cell_type": "markdown",
   "metadata": {},
   "source": [
    "## Introduction: Math Tools"
   ]
  },
  {
   "cell_type": "markdown",
   "metadata": {},
   "source": [
    "### Due ???? via upload to ???"
   ]
  },
  {
   "cell_type": "markdown",
   "metadata": {},
   "source": [
    "#### J. Bradford DeLong\n",
    "\n",
    "You should have gotten to this point vis this link:\n",
    "[http://datahub.berkeley.edu/user-redirect/interact?account=braddelong&repo=LS2019&branch=master&path=Introduction-Math-Tools-%26-Economics-delong.ipynb](http://datahub.berkeley.edu/user-redirect/interact?account=braddelong&repo=LS2019&branch=master&path=Introduction-Math-Tools-%26-Economics-delong.ipynb)\n",
    "\n",
    "This second introductory notebook will remind—well, at least\n",
    "familiarize—you with some math tools useful in economics:"
   ]
  },
  {
   "cell_type": "markdown",
   "metadata": {},
   "source": [
    "#### Table of Contents\n",
    "\n",
    "1. Math Review  \n",
    "1. Economics Review: Measuring the Economy  \n",
    "1. Economics Review: Economic Thought  \n",
    "\n",
    "\n",
    "There will be some questions for you in the notebook. For free response\n",
    "questions, write your answers in the provided markdown cell that starts\n",
    "with ANSWER:. Do not change the heading, and write your entire answer in\n",
    "that one cell.\n",
    "\n",
    "For questions that are to be answered numerically, there is a code cell\n",
    "that starts with:"
   ]
  },
  {
   "cell_type": "code",
   "execution_count": null,
   "metadata": {
    "hide-output": false
   },
   "outputs": [],
   "source": [
    "__#ANSWER__"
   ]
  },
  {
   "cell_type": "markdown",
   "metadata": {},
   "source": [
    "and has a line in which there is a variable (like “X”) currently set to\n",
    "underscores so:"
   ]
  },
  {
   "cell_type": "code",
   "execution_count": null,
   "metadata": {
    "hide-output": false
   },
   "outputs": [],
   "source": [
    "X = ___"
   ]
  },
  {
   "cell_type": "markdown",
   "metadata": {},
   "source": [
    "Replace those underscores with your final answer. It is okay to make\n",
    "other computations in that cell and others, so long as you set the\n",
    "variable to your answer."
   ]
  },
  {
   "cell_type": "markdown",
   "metadata": {},
   "source": [
    "#### Math as a Tool"
   ]
  },
  {
   "cell_type": "markdown",
   "metadata": {},
   "source": [
    "### Suppose a quantity grows at a steady proportional rate of 3% per year…\n",
    "\n",
    "…How long will it take to double?"
   ]
  },
  {
   "cell_type": "code",
   "execution_count": null,
   "metadata": {
    "hide-output": false
   },
   "outputs": [],
   "source": [
    "#ANSWER\n",
    "import math\n",
    "n=math.log(2)/math.log(1.03)\n",
    "print(n)\n",
    "TIME_TO_DOUBLE = 23.45"
   ]
  },
  {
   "cell_type": "markdown",
   "metadata": {},
   "source": [
    "Quadruple?"
   ]
  },
  {
   "cell_type": "code",
   "execution_count": null,
   "metadata": {
    "hide-output": false
   },
   "outputs": [],
   "source": [
    "#ANSWER\n",
    "import math\n",
    "n=math.log(4)/math.log(1.03)\n",
    "print(n)\n",
    "TIME_TO_QUADRUPLE = 46.90"
   ]
  },
  {
   "cell_type": "markdown",
   "metadata": {},
   "source": [
    "Grow 1024-fold?"
   ]
  },
  {
   "cell_type": "code",
   "execution_count": null,
   "metadata": {
    "hide-output": false
   },
   "outputs": [],
   "source": [
    "#ANSWER\n",
    "import math\n",
    "n=math.log(1024)/math.log(1.03)\n",
    "print(n)\n",
    "TIME_TO_1024 = 234.50"
   ]
  },
  {
   "cell_type": "markdown",
   "metadata": {},
   "source": [
    "### Suppose we have a quantity x(t) that varies over time following the equation:\n",
    "\n",
    "$ \\frac{dx(t)}{dt} = -(0.06)x + 0.36 $\n",
    "\n",
    "$ \\frac{dx(t)}{dt} -  \\frac{d(6)}{dt} = -(0.06)(x - 6) $\n",
    "\n",
    "$ \\frac{dx(t)}{dt} = -(0.06)(x - 6) $\n",
    "\n",
    "$ \\frac{dy(t)}{dt} = -(0.06)y $\n",
    "\n",
    "Without integrating the equation:\n",
    "\n",
    "$ 1. $Tell me what the long-run steady-state value of\n",
    "$ x $–that is, the limit of $ x $ as$ t $ approaches in\n",
    "infinity–is going to be."
   ]
  },
  {
   "cell_type": "code",
   "execution_count": null,
   "metadata": {
    "hide-output": false
   },
   "outputs": [],
   "source": [
    "steady_state_val = 6"
   ]
  },
  {
   "cell_type": "markdown",
   "metadata": {},
   "source": [
    "$ 2. $Suppose that the value of $ x $ at time\n",
    "$ t=0 $,$ x(0) $ equals 12. Once again, without integrating\n",
    "the equation, tell me how long it will take x to close half the distance\n",
    "between its initial value of 12 and its steady-state value."
   ]
  },
  {
   "cell_type": "code",
   "execution_count": null,
   "metadata": {
    "hide-output": false
   },
   "outputs": [],
   "source": [
    "half_dist_time = 12\n",
    "import math\n",
    "t=math.log(16)/0.06\n",
    "print(t)"
   ]
  },
  {
   "cell_type": "markdown",
   "metadata": {},
   "source": [
    "$ 3. $ How long will it take to close 3/4 of the distance?"
   ]
  },
  {
   "cell_type": "code",
   "execution_count": null,
   "metadata": {
    "hide-output": false
   },
   "outputs": [],
   "source": [
    "three_fourth_time = 23"
   ]
  },
  {
   "cell_type": "markdown",
   "metadata": {},
   "source": [
    "$ 4. $$ 7/8 $ of the distance?"
   ]
  },
  {
   "cell_type": "code",
   "execution_count": null,
   "metadata": {
    "hide-output": false
   },
   "outputs": [],
   "source": [
    "seven_eighth_time = 35"
   ]
  },
  {
   "cell_type": "markdown",
   "metadata": {},
   "source": [
    "$ 5. $$ 15/16 $ of the distance?"
   ]
  },
  {
   "cell_type": "code",
   "execution_count": null,
   "metadata": {
    "hide-output": false
   },
   "outputs": [],
   "source": [
    "fifteen_sixteenth = 46"
   ]
  },
  {
   "cell_type": "markdown",
   "metadata": {},
   "source": [
    "Now you are allowed to integrate\n",
    "$ \\frac{dx(t)}{dt} = -(0.06)x + 0.36 $.\n",
    "\n",
    "$ 1. $ Write down and solve the indefinite integral.\n",
    "\n",
    "ANSWER:  $ \\frac{dx(t)}{dt} -  \\frac{d(6)}{dt} = -(0.06)(x - 6) $\n",
    "\n",
    "$ \\frac{dy(t)}{dt} = -(0.06)y $\n",
    "\n",
    "$ \\int \\frac{dy(t)}{y} = \\int -(0.06)dt $\n",
    "\n",
    "$ \\ln y = -0.06t + c $\n",
    "\n",
    "$ y=c_{1}e^{-0.06t} $\n",
    "\n",
    "$ x=c_{1}e^{-0.06t}+6 $\n",
    "\n",
    "$ 2. $Write down and solve the definite integral for the initial\n",
    "condition$ x(0) = 12 $.\n",
    "\n",
    "ANSWER: $ x=c_{1}e^{-0.06t}+6 $\n",
    "\n",
    "$ x(0)=12 $\n",
    "\n",
    "$ c_{1}=6 $\n",
    "\n",
    "$ x=6e^{-0.06t}+6 $\n",
    "\n",
    "$ 3. $Write down and solve the definite integral for the initial\n",
    "condition$ x(0) = 6 $.\n",
    "\n",
    "ANSWER: $ x=c_{1}e^{-0.06t}+6 $\n",
    "\n",
    "$ x(0)=6 $\n",
    "\n",
    "$ c_{1}=0 $\n",
    "\n",
    "$ x=6 $"
   ]
  },
  {
   "cell_type": "markdown",
   "metadata": {},
   "source": [
    "### Suppose we have a quantity $ z = (\\frac{x}{y})^\\beta $\n",
    "\n",
    "Suppose $ x $is growing at 4% per year and\n",
    "that$ \\beta=1/4 $:\n",
    "\n",
    "$ 1. $How fast is $ z $ growing if$ y $ is growing at 0%\n",
    "per year?"
   ]
  },
  {
   "cell_type": "code",
   "execution_count": null,
   "metadata": {
    "hide-output": false
   },
   "outputs": [],
   "source": [
    "zero_per_growth = 1%"
   ]
  },
  {
   "cell_type": "markdown",
   "metadata": {},
   "source": [
    "$ 2. $If$ y $ is growing at 2% per year?"
   ]
  },
  {
   "cell_type": "code",
   "execution_count": null,
   "metadata": {
    "hide-output": false
   },
   "outputs": [],
   "source": [
    "two_per_growth = 0.5%"
   ]
  },
  {
   "cell_type": "markdown",
   "metadata": {},
   "source": [
    "$ 3. $If$ y $ is growing at 4% per year?"
   ]
  },
  {
   "cell_type": "code",
   "execution_count": null,
   "metadata": {
    "hide-output": false
   },
   "outputs": [],
   "source": [
    "four_per_growth = 0%"
   ]
  },
  {
   "cell_type": "markdown",
   "metadata": {},
   "source": [
    "### Rule of 72 (Use it for the next four questions)\n",
    "\n",
    "1. If a quantity grows at about 3% per year, how long will it take to\n",
    "  double?  "
   ]
  },
  {
   "cell_type": "code",
   "execution_count": null,
   "metadata": {
    "hide-output": false
   },
   "outputs": [],
   "source": [
    "time_to_double = 24"
   ]
  },
  {
   "cell_type": "markdown",
   "metadata": {},
   "source": [
    "$ 2. $ If a quantity shrinks at about 4% per year, how long will it\n",
    "take it to halve itself?"
   ]
  },
  {
   "cell_type": "code",
   "execution_count": null,
   "metadata": {
    "hide-output": false
   },
   "outputs": [],
   "source": [
    "time_to_half = 18"
   ]
  },
  {
   "cell_type": "markdown",
   "metadata": {},
   "source": [
    "$ 3. $ If a quantity doubles five times, how large is it relative to\n",
    "its original value?"
   ]
  },
  {
   "cell_type": "code",
   "execution_count": null,
   "metadata": {
    "hide-output": false
   },
   "outputs": [],
   "source": [
    "doubled_five_times_ratio = 32"
   ]
  },
  {
   "cell_type": "markdown",
   "metadata": {},
   "source": [
    "$ 4. $ If a quantity halves itself three times, how large is it\n",
    "relative to its original value?"
   ]
  },
  {
   "cell_type": "code",
   "execution_count": null,
   "metadata": {
    "hide-output": false
   },
   "outputs": [],
   "source": [
    "halved_three_times_ratio = 0.125"
   ]
  },
  {
   "cell_type": "markdown",
   "metadata": {},
   "source": [
    "### Interactive Model for Rule of 72\n",
    "\n",
    "In future problem sets, you will build models of your own, but for now,\n",
    "look over this code. Its a simple model that shows what happens as you\n",
    "adjust a single parameter (the interest rate) and its effect on the\n",
    "outcome (the time to double). First we need to make sure all of our\n",
    "packages are imported."
   ]
  },
  {
   "cell_type": "code",
   "execution_count": null,
   "metadata": {
    "hide-output": false
   },
   "outputs": [],
   "source": [
    "import matplotlib.pyplot as plt\n",
    "import numpy as np\n",
    "from ipywidgets import interact, IntSlider\n",
    "%matplotlib inline"
   ]
  },
  {
   "cell_type": "markdown",
   "metadata": {},
   "source": [
    "Our model is going to be graph that shows what happens as the interest\n",
    "rate varies."
   ]
  },
  {
   "cell_type": "code",
   "execution_count": null,
   "metadata": {
    "hide-output": false
   },
   "outputs": [],
   "source": [
    "def graph_rule_of_72(interest_rate):\n",
    "    # np.linspace takes values evenly spaced between a stop and end point. In this case,\n",
    "    # will take 30 values between 1 and 10. These will be our x values in the graph.\n",
    "    x = np.linspace(1,10,30)\n",
    "\n",
    "    # Here we create are corresponding y values\n",
    "    y = 72 / x\n",
    "\n",
    "    print('Time to double:', 72 / interest_rate, 'years')\n",
    "\n",
    "    # graphing our lines\n",
    "    plt.plot(x,y)\n",
    "    # graphing the specific point for our interest_rate\n",
    "    plt.scatter(interest_rate, 72 / interest_rate, c='r')\n",
    "\n",
    "    plt.xlabel('interest rate (%)')\n",
    "    plt.ylabel('time (years)')\n",
    "    plt.show()"
   ]
  },
  {
   "cell_type": "markdown",
   "metadata": {},
   "source": [
    "When we call `interact`, select the function that we want to interact\n",
    "with (`graph_rule_of_72`) and tell it what the value we want its\n",
    "parameters to take on. In this case, `graph_rule_of_72` only takes one\n",
    "parameter, `interest_rate`, and we choose to put an adjustable slider\n",
    "there. You can check out the [ipywidget\n",
    "examples](https://github.com/jupyter-widgets/ipywidgets/blob/master/docs/source/examples/Index.ipynb)\n",
    "for more uses."
   ]
  },
  {
   "cell_type": "code",
   "execution_count": null,
   "metadata": {
    "hide-output": false
   },
   "outputs": [],
   "source": [
    "interact(graph_rule_of_72, interest_rate=IntSlider(min=1,max=10,step=1))"
   ]
  },
  {
   "cell_type": "markdown",
   "metadata": {},
   "source": [
    "### Why do DeLong and Olney think that the interest rate and the level of the stock market are important macroeconomic variables?\n",
    "\n",
    "ANSWER:"
   ]
  },
  {
   "cell_type": "markdown",
   "metadata": {},
   "source": [
    "### What are the principal flaws in using national product per worker as a measure of material welfare? Given these flaws, why do we use it anyway?\n",
    "\n",
    "ANSWER:"
   ]
  },
  {
   "cell_type": "markdown",
   "metadata": {},
   "source": [
    "### What is the difference between the nominal interest rate and the real interest rate? Why do DeLong and Olney think that the real interest rate is more important?\n",
    "\n",
    "ANSWER:"
   ]
  },
  {
   "cell_type": "markdown",
   "metadata": {},
   "source": [
    "#### Review: Measuring the Economy Concepts and Quantities"
   ]
  },
  {
   "cell_type": "markdown",
   "metadata": {},
   "source": [
    "### National Income and Product Accounting\n",
    "\n",
    "Explain whether or not, why, and how the following items are included in\n",
    "the calculations of national product:\n",
    "\n",
    "$ 1. $ Increases in business inventories.\n",
    "\n",
    "ANSWER: yes, so that New goods that are produced but go unsold will\n",
    "still be counted in the year in which they are produced.\n",
    "\n",
    "$ 2. $ Fees earned by real estate agents on selling existing homes.\n",
    "\n",
    "ANSWER: yes. The service of real estate agents needs to be counted.\n",
    "\n",
    "$ 3. $ Social Security checks written by the government.\n",
    "\n",
    "ANSWER: no. they do not involve the production of any good or service\n",
    "\n",
    "$ 4. $ Building of a new dam by the Army Corps of Engineers.\n",
    "\n",
    "ANSWER: yes. The goods and services purchased by the government to\n",
    "build the dam will count in GDP.\n",
    "\n",
    "$ 5. $ Interest that your parents pay on the mortgage they have on\n",
    "their house.\n",
    "\n",
    "ANSWER: no. It is not assumed to flow from the production of goods and\n",
    "services.\n",
    "\n",
    "$ 6. $ Purchases of foreign-made trucks by American residents\n",
    "\n",
    "ANSWER: Purchases of foreign-made trucks by American residents are\n",
    "counted in the calculation of GDP. They enter GDP negatively through the\n",
    "category IM and positively through C. In reality, C may be slightly\n",
    "greater than IM in magnitude. The net contribution to GDP would be\n",
    "positive due to the production of these American services."
   ]
  },
  {
   "cell_type": "markdown",
   "metadata": {},
   "source": [
    "### In or Out of National Product? And Why\n",
    "\n",
    "Explain whether or not, why, and how the following items are included in\n",
    "the calculation of national product:\n",
    "\n",
    "$ 1. $The sale for $ \\\\$25,000 $ of an automobile that\n",
    "cost$ \\\\$20,000 $ to manufacture that had been produced here at\n",
    "home last year and carried over in inventory.\n",
    "\n",
    "ANSWER:\n",
    "\n",
    "$ 2. $The sale for $ \\\\$35,000 $ of an automobile that\n",
    "cost$ \\\\$25,000 $ to manufacture newly- made at home this year.\n",
    "\n",
    "ANSWER:\n",
    "\n",
    "$ 3. $The sale for $ \\\\$45,000 $ of an automobile that\n",
    "cost$ \\\\$30,000 $ to manufacture that was newly-made abroad this\n",
    "year and imported.\n",
    "\n",
    "ANSWER:\n",
    "\n",
    "$ 4. $The sale for $ \\\\$25,000 $ of an automobile that\n",
    "cost$ \\\\$20,000 $ to manufacture that was made abroad and imported\n",
    "last year.\n",
    "\n",
    "ANSWER:"
   ]
  },
  {
   "cell_type": "markdown",
   "metadata": {},
   "source": [
    "### In or Out of National Product? And Why II\n",
    "\n",
    "Explain whether or not, why, and how the following items are included in\n",
    "the calculation of GDP:\n",
    "\n",
    "$ 1. $The purchase for \\$500 of a dishwasher produced here at home\n",
    "this year.\n",
    "\n",
    "ANSWER:\n",
    "\n",
    "$ 2. $The purchase for\\$500 of a dishwasher made abroad this year.\n",
    "\n",
    "ANSWER:\n",
    "\n",
    "$ 3. $The purchase for\\$500 of a used dishwasher.\n",
    "\n",
    "ANSWER: n GNP.\n",
    "\n",
    "$ 4. $The manufacture of a new dishwasher here at home for\\$500 of\n",
    "a dishwasher that then nobody wants to buy.\n",
    "\n",
    "ANSWER:"
   ]
  },
  {
   "cell_type": "markdown",
   "metadata": {},
   "source": [
    "### Components of National Income and Product\n",
    "\n",
    "Suppose that the appliance store buys a refrigerator from the\n",
    "manufacturer on December 15, 2018 for $ \\\\$600 $, and that you then\n",
    "buy that refrigerator on January 15, 2019 for$ \\\\$1000 $:\n",
    "\n",
    "$ 1. $ What is the contribution to GDP in 2018?"
   ]
  },
  {
   "cell_type": "code",
   "execution_count": null,
   "metadata": {
    "hide-output": false
   },
   "outputs": [],
   "source": [
    "contribution_2018 ="
   ]
  },
  {
   "cell_type": "markdown",
   "metadata": {},
   "source": [
    "$ 2. $ How is the refrigerator accounted for in the NIPA in 2019?\n",
    "\n",
    "ANSWER:\n",
    "\n",
    "$ 3. $ What is the contribution to GDP in 2019?"
   ]
  },
  {
   "cell_type": "code",
   "execution_count": null,
   "metadata": {
    "hide-output": false
   },
   "outputs": [],
   "source": [
    "contribution_2019 ="
   ]
  },
  {
   "cell_type": "markdown",
   "metadata": {},
   "source": [
    "$ 4. $ How is the refrigerator accounted for in the NIPA in 2019?\n",
    "\n",
    "ANSWER:"
   ]
  },
  {
   "cell_type": "code",
   "execution_count": null,
   "metadata": {
    "hide-output": false
   },
   "outputs": [],
   "source": [
    "\"\"\"\n",
    "These lines are reading in CSV files and creating dataframes from then,\n",
    "you don't have to change about them!\n",
    "\"\"\"\n",
    "\n",
    "import pandas as pd\n",
    "import numpy as np\n",
    "\n",
    "unemployment = pd.read_csv(\"data/Unemployment.csv\")\n",
    "quarterly_acc = pd.read_csv(\"data/Quarterly_Accounts.csv\")\n",
    "from_2007 = quarterly_acc.loc[(quarterly_acc[\"Year\"].isin(np.arange(2007, 2018)))]"
   ]
  },
  {
   "cell_type": "markdown",
   "metadata": {},
   "source": [
    "#### Estimating National Product\n",
    "\n",
    "The Bureau of Economic Analysis measures national product in two\n",
    "different ways: as total expenditure on the economy’s output of goods\n",
    "and services and as the total income of everyone in the economy. Since –\n",
    "as you learned in earlier courses – these two things are the same, the\n",
    "two approaches should give the same answer. But in practice they do not.\n",
    "\n",
    "We have provided a data table `quarterly_gdp` that contains quarterly\n",
    "data on real GDP measured on the expenditure side (referred to in the\n",
    "National Income and Product Accounts as “Real Gross Domestic Product,\n",
    "chained dollars”) and real GDP measured on the income side (referred to\n",
    "as “Real Gross Domestic Income, chained dollars”). The table refers to\n",
    "Real Gross Dometic Product as “Real GDP” and to Real Gross Dometic\n",
    "Income as “Real GDI”, and they are measured in billions of dollars.\n",
    "(Note: You will not have to use Nominal GDP)\n",
    "\n",
    "Another table, `from_2007`, has been created from `quarterly_gdp`,\n",
    "and includes information from 2007 to 2017. Below is a snippet from\n",
    "`from_2007`:"
   ]
  },
  {
   "cell_type": "code",
   "execution_count": null,
   "metadata": {
    "hide-output": false
   },
   "outputs": [],
   "source": [
    "from_2007.head(10)"
   ]
  },
  {
   "cell_type": "markdown",
   "metadata": {},
   "source": [
    "$ 1. $ Compute the growth rate at an annual rate of each of the two\n",
    "series by quarter for 2007:Q1–2012:Q4."
   ]
  },
  {
   "cell_type": "code",
   "execution_count": null,
   "metadata": {
    "hide-output": false
   },
   "outputs": [],
   "source": [
    "gdi_rate = ___\n",
    "gdp_rate = ___\n",
    "from_2007"
   ]
  },
  {
   "cell_type": "markdown",
   "metadata": {},
   "source": [
    "$ 2. $ Describe any two things you see when you compare the two\n",
    "series that you find interesting, and explain why you find them\n",
    "interesting.\n",
    "\n",
    "ANSWER:"
   ]
  },
  {
   "cell_type": "markdown",
   "metadata": {},
   "source": [
    "### Calculating Real Magnitudes:\n",
    "\n",
    "$ 1. $ When you calculate real national product, do you do so by\n",
    "dividing nominal national product by the price level or by subtracting\n",
    "the price level from nominal national product?\n",
    "\n",
    "ANSWER: dividing nominal national product by the price level\n",
    "\n",
    "$ 2. $ When you calculate the real interest rate, do you do so by\n",
    "dividing the nominal interest rate by the price level or by subtracting\n",
    "the inflation rate from the nominal interest rate?\n",
    "\n",
    "ANSWER: subtracting the inflation rate from the nominal interest rate\n",
    "\n",
    "$ 3. $ Are your answers to (a) and (b) the same? Why or why not?\n",
    "\n",
    "ANSWER: no. The interest rate is a ratio."
   ]
  },
  {
   "cell_type": "markdown",
   "metadata": {},
   "source": [
    "#### Unemployment Rate\n",
    "\n",
    "Use the `unemployment` table provided to answer the following\n",
    "questions. **All numbers (other than percents) are in the thousands.**\n",
    "\n",
    "Here are the first five entries of the table."
   ]
  },
  {
   "cell_type": "code",
   "execution_count": null,
   "metadata": {
    "hide-output": false
   },
   "outputs": [],
   "source": [
    "unemployment.head()"
   ]
  },
  {
   "cell_type": "markdown",
   "metadata": {},
   "source": [
    "### What, roughly, was the highest level the U.S. unemployment rate (measured as Percent Unemployed of Labor Force in the table) reached in:\n",
    "\n",
    "$ 1. $ The 20th century?"
   ]
  },
  {
   "cell_type": "code",
   "execution_count": null,
   "metadata": {
    "hide-output": false
   },
   "outputs": [],
   "source": [
    "unemployment.sort_values('Percent Unemployed\\nof\\nlabor\\nforce', ascending=False)\n",
    "1982"
   ]
  },
  {
   "cell_type": "markdown",
   "metadata": {},
   "source": [
    "$ 2. $ The past fifty years?"
   ]
  },
  {
   "cell_type": "code",
   "execution_count": null,
   "metadata": {
    "hide-output": false
   },
   "outputs": [],
   "source": [
    "1982\n",
    "un2=unemployment[unemployment[\"Year\"]>=1964]\n",
    "un2.sort_values('Percent Unemployed\\nof\\nlabor\\nforce', ascending=False)"
   ]
  },
  {
   "cell_type": "markdown",
   "metadata": {},
   "source": [
    "$ 3. $ The twenty years before 2006?"
   ]
  },
  {
   "cell_type": "code",
   "execution_count": null,
   "metadata": {
    "hide-output": false
   },
   "outputs": [],
   "source": [
    "1992\n",
    "un3=unemployment[39:59]\n",
    "un3.sort_values(\"Percent Unemployed\\nof\\nlabor\\nforce\", ascending=False)"
   ]
  },
  {
   "cell_type": "markdown",
   "metadata": {},
   "source": [
    "$ 4. $ Given your answers to (1) through (3), Do you think there is\n",
    "a connection between your answer to the question above and the fact that\n",
    "Federal Reserve Chair Alan Greenspan received a five-minute standing\n",
    "ovation at the end of the first of many events marking his retirement in\n",
    "2005?\n",
    "\n",
    "ANSWER:"
   ]
  },
  {
   "cell_type": "markdown",
   "metadata": {},
   "source": [
    "### The State of the Labor Market\n",
    "\n",
    "$ 1. $ About how many people lose or quit their jobs in an average\n",
    "year?"
   ]
  },
  {
   "cell_type": "code",
   "execution_count": null,
   "metadata": {
    "hide-output": false
   },
   "outputs": [],
   "source": [
    "unemployment"
   ]
  },
  {
   "cell_type": "markdown",
   "metadata": {},
   "source": [
    "$ 2. $ About how many people get jobs in an average year?"
   ]
  },
  {
   "cell_type": "code",
   "execution_count": null,
   "metadata": {
    "hide-output": false
   },
   "outputs": [],
   "source": [
    "average_getters = ___"
   ]
  },
  {
   "cell_type": "markdown",
   "metadata": {},
   "source": [
    "$ 3. $ About how many people are unemployed in an average year?"
   ]
  },
  {
   "cell_type": "code",
   "execution_count": null,
   "metadata": {
    "hide-output": false
   },
   "outputs": [],
   "source": [
    "average_unemployed = ___"
   ]
  },
  {
   "cell_type": "markdown",
   "metadata": {},
   "source": [
    "$ 4. $ About how many people are at work in an average year?"
   ]
  },
  {
   "cell_type": "code",
   "execution_count": null,
   "metadata": {
    "hide-output": false
   },
   "outputs": [],
   "source": [
    "average_workers = ___"
   ]
  },
  {
   "cell_type": "markdown",
   "metadata": {},
   "source": [
    "$ 5. $ About how many people are unemployed now?"
   ]
  },
  {
   "cell_type": "code",
   "execution_count": null,
   "metadata": {
    "hide-output": false
   },
   "outputs": [],
   "source": [
    "unemployed_now = ___"
   ]
  },
  {
   "cell_type": "markdown",
   "metadata": {},
   "source": [
    "### National Income Accounting:\n",
    "\n",
    "$ 1. $ What was the level of real GDP in 2005 dollars in 1970?"
   ]
  },
  {
   "cell_type": "code",
   "execution_count": null,
   "metadata": {
    "hide-output": false
   },
   "outputs": [],
   "source": [
    "quarterly_acc.loc[90:98]"
   ]
  },
  {
   "cell_type": "markdown",
   "metadata": {},
   "source": [
    "$ 2. $ What was the rate of inflation in the United States in 2000?"
   ]
  },
  {
   "cell_type": "code",
   "execution_count": null,
   "metadata": {
    "hide-output": false
   },
   "outputs": [],
   "source": [
    "quarterly_acc.loc[211:215]"
   ]
  },
  {
   "cell_type": "markdown",
   "metadata": {},
   "source": [
    "$ 3. $ Explain whether or not, how, and why the following items are\n",
    "included in the calculation of GDP: (i) rent you pay on an apartment,\n",
    "(ii) purchase of a used textbook, (iii) purchase of a new tank by the\n",
    "Department of Defense, (iv) watching an advertisement on youtube.\n",
    "\n",
    "ANSWER:\n",
    "\n",
    "Congratulations, you have finished your first assignment for Econ 101B!\n",
    "Run the cell below to submit all of your work. Make sure to check on OK\n",
    "to make sure that it has uploaded.\n",
    "\n",
    "Some materials this notebook were taken from [Data\n",
    "8](http://data8.org/), [CS 61A](http://cs61a.org/), and [DS\n",
    "Modules](http://data.berkeley.edu/education/modules) lessons."
   ]
  },
  {
   "cell_type": "markdown",
   "metadata": {},
   "source": [
    "# Introduction: Python and Economics"
   ]
  },
  {
   "cell_type": "markdown",
   "metadata": {},
   "source": [
    "## Catch Our Breath—Further Notes:\n",
    "\n",
    "![_static/skitch.png](_static/skitch.png)  \n",
    "- weblog support:\n",
    "  [https://github.com/braddelong/LS2019/blob/master/Introduction-Math-Tools-%26-Economics-delong.ipynb](https://github.com/braddelong/LS2019/blob/master/Introduction-Math-Tools-%26-Economics-delong.ipynb)  \n",
    "- nbViewer:\n",
    "  [https://nbviewer.jupyter.org/github/braddelong/LS2019/blob/master/Introduction-Math-Tools-%26-Economics-delong.ipynb](https://nbviewer.jupyter.org/github/braddelong/LS2019/blob/master/Introduction-Math-Tools-%26-Economics-delong.ipynb)  \n",
    "- datahub:\n",
    "  [http://datahub.berkeley.edu/user-redirect/interact?account=braddelong&repo=LS2019&branch=master&path=Introduction-Math-Tools-%26-Economics-delong.ipynb](http://datahub.berkeley.edu/user-redirect/interact?account=braddelong&repo=LS2019&branch=master&path=Introduction-Math-Tools-%26-Economics-delong.ipynb)  \n",
    "\n",
    "\n",
    "[https://www.icloud.com/keynote/0yKJfOMN5SvDtK_K7tjWAstcA](https://www.icloud.com/keynote/0yKJfOMN5SvDtK_K7tjWAstcA)\n",
    "\n",
    "[https://www.typepad.com/site/blogs/6a00e551f08003883400e551f080068834/post/6a00e551f0800388340240a4a488c4200d/edit](https://www.typepad.com/site/blogs/6a00e551f08003883400e551f080068834/post/6a00e551f0800388340240a4a488c4200d/edit)\n",
    "\n",
    "[https://nbviewer.jupyter.org/github/braddelong/weblog-support/blob/master/2017-08-30%20%28More%20than%20a%29%20Few%20Words%20About%20%22Computer%20Literacy%22%20in%20the%20Twenty-First%20Century….ipynb](https://nbviewer.jupyter.org/github/braddelong/weblog-support/blob/master/2017-08-30%20%28More%20than%20a%29%20Few%20Words%20About%20%22Computer%20Literacy%22%20in%20the%20Twenty-First%20Century....ipynb)"
   ]
  }
 ],
 "metadata": {
  "date": 1575027411.488706,
  "filename": "math_tools.rst",
  "kernelspec": {
   "display_name": "Python",
   "language": "python3",
   "name": "python3"
  },
  "title": "DeLong: Teaching Economics"
 },
 "nbformat": 4,
 "nbformat_minor": 2
}
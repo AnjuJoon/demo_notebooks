{
 "cells": [
  {
   "cell_type": "markdown",
   "metadata": {},
   "source": [
    "# DeLong: Teaching Economics\n",
    "\n",
    "Last edited: 2019-10-12"
   ]
  },
  {
   "cell_type": "markdown",
   "metadata": {},
   "source": [
    "## Deep Roots of Relative Development"
   ]
  },
  {
   "cell_type": "markdown",
   "metadata": {},
   "source": [
    "### Due ???? via upload to ???"
   ]
  },
  {
   "cell_type": "markdown",
   "metadata": {},
   "source": [
    "#### J. Bradford DeLong"
   ]
  },
  {
   "cell_type": "markdown",
   "metadata": {},
   "source": [
    "### Derived from QuantEcon: Linear Regression in Python: [https://python.quantecon.org/ols.html](https://python.quantecon.org/ols.html)\n",
    "\n",
    "You should have gotten to this point vis this link:"
   ]
  },
  {
   "cell_type": "markdown",
   "metadata": {},
   "source": [
    "#### Table of Contents\n",
    "\n",
    "1.\n",
    "2.\n",
    "3."
   ]
  },
  {
   "cell_type": "code",
   "execution_count": null,
   "metadata": {
    "hide-output": true
   },
   "outputs": [],
   "source": [
    "  #libraries:\n",
    "\n",
    "  !pip install linearmodels\n",
    "\n",
    "  import numpy as np\n",
    "  import matplotlib.pyplot as plt\n",
    "  import pandas as pd\n",
    "  import statsmodels.api as sm\n",
    "  from statsmodels.iolib.summary2 import summary_col\n",
    "  from linearmodels.iv import IV2SLS\n",
    "\n",
    "\n",
    "  # inline graphics\n",
    "\n",
    "  %matplotlib inline"
   ]
  },
  {
   "cell_type": "code",
   "execution_count": null,
   "metadata": {
    "hide-output": false
   },
   "outputs": [],
   "source": [
    "ajr_df = pd.read_csv('https://delong.typepad.com/files/ajr.csv')\n",
    "ajr_df.head()"
   ]
  },
  {
   "cell_type": "markdown",
   "metadata": {},
   "source": [
    "Let’s use a scatterplot to see whether any obvious relationship exists\n",
    "between GDP per capita and the protection against expropriation index:"
   ]
  },
  {
   "cell_type": "code",
   "execution_count": null,
   "metadata": {
    "hide-output": false
   },
   "outputs": [],
   "source": [
    "plt.style.use('seaborn')\n",
    "\n",
    "ajr_df.plot.scatter(x='avexpr', y='logpgp95')\n",
    "plt.show()"
   ]
  },
  {
   "cell_type": "markdown",
   "metadata": {},
   "source": [
    "Let’s add three-letter country labels to the points:"
   ]
  },
  {
   "cell_type": "code",
   "execution_count": null,
   "metadata": {
    "hide-output": false
   },
   "outputs": [],
   "source": [
    "x = ajr_df['avexpr'].tolist()\n",
    "y = ajr_df['logpgp95'].tolist()\n",
    "labels = ajr_df['shortnam'].tolist()\n",
    "\n",
    "fig, ax = plt.subplots()\n",
    "ax.scatter(x, y, marker='.')\n",
    "\n",
    "for i, txt in enumerate(labels):\n",
    "    ax.annotate(txt, (x[i], y[i]))\n",
    "\n",
    "plt.show()\n",
    "\n",
    "# no, I do not understand why the data and labels need to be\n",
    "# coerced into a list before ax.annotate will do its thing..."
   ]
  },
  {
   "cell_type": "markdown",
   "metadata": {},
   "source": [
    "Let’s fit a linear model to this scatter:\n",
    "\n",
    "> 1. $ \\ln(pgp_95)_i= β_0 + β_1(avexpr_i) + u_i $  \n",
    "\n",
    "\n",
    "\n",
    "- $ β_0 $ is the intercept of the linear trend line on the y-axis  \n",
    "- $ β_1 $ is the slope of the linear trend line, representing the\n",
    "  marginal association of protection against against expropriation risk\n",
    "  with log GDP per capita  \n",
    "- $ u_i $ is an error term.  \n",
    "\n",
    "\n",
    "Fitting this linear model chooses a straight line that best fits the\n",
    "data in a least-squares, as in the following plot (Figure 2 in AJR):"
   ]
  },
  {
   "cell_type": "code",
   "execution_count": null,
   "metadata": {
    "hide-output": false
   },
   "outputs": [],
   "source": [
    "# dropping NA's is required to use numpy's polyfit...\n",
    "# using only 'base sample' for plotting purposes...\n",
    "\n",
    "\n",
    "ajr_df = ajr_df.dropna(subset=['logpgp95', 'avexpr'])\n",
    "ajr_df = ajr_df[ajr_df['baseco'] == 1]\n",
    "\n",
    "x = ajr_df['avexpr'].tolist()\n",
    "y = ajr_df['logpgp95'].tolist()\n",
    "labels = ajr_df['shortnam'].tolist()\n",
    "\n",
    "fig, ax = plt.subplots()\n",
    "ax.scatter(x, y, marker='.')\n",
    "\n",
    "for i, txt in enumerate(labels):\n",
    "    ax.annotate(txt, (x[i], y[i]))\n",
    "\n",
    "ax.plot(np.unique(x),\n",
    "         np.poly1d(np.polyfit(x, y, 1))(np.unique(x)),\n",
    "         color='black')\n",
    "\n",
    "ax.set_xlabel('Inverse Expropriation Risk Classification, 1985-95')\n",
    "ax.set_ylabel('Log GDP per capita 1995 (PPP)')\n",
    "ax.set_title('Figure 2: OLS Relationship: Prosperity and \"Property Security Institutions\"')\n",
    "\n",
    "plt.show()"
   ]
  },
  {
   "cell_type": "markdown",
   "metadata": {},
   "source": [
    "To estimate the constant term $ β_0 $, we need to add a column of\n",
    "1’s to our dataframe so that we can use statsmodels’s OLS routines:"
   ]
  },
  {
   "cell_type": "code",
   "execution_count": null,
   "metadata": {
    "hide-output": false
   },
   "outputs": [],
   "source": [
    "ajr_df['constant'] = 1\n",
    "\n",
    "regression_1 = sm.OLS(endog=ajr_df['logpgp95'],\n",
    "                exog=ajr_df[['constant', 'avexpr']],\n",
    "                missing='drop')\n",
    "results_1 = regression_1.fit()\n",
    "print(results_1.summary())"
   ]
  },
  {
   "cell_type": "markdown",
   "metadata": {},
   "source": [
    "We extend our bivariate regression model to a multivariate regression\n",
    "model by adding in other factors correlated with $ \\ln(pgp_95)_i $:\n",
    "\n",
    "- climate, as proxied by latitude  \n",
    "- the different culture and history of different continents  \n",
    "\n",
    "\n",
    "latitude is used to proxy this differences that affect both economic\n",
    "performance and institutions, eg. cultural, historical, etc.; controlled\n",
    "for with the use of continent dummies Let’s estimate some of the\n",
    "extended models considered in the paper (Table 2) using data from"
   ]
  },
  {
   "cell_type": "code",
   "execution_count": null,
   "metadata": {
    "hide-output": false
   },
   "outputs": [],
   "source": [
    "ajr2_df = pd.read_csv('https://delong.typepad.com/files/ajr2.csv')\n",
    "ajr2_df['constant'] = 1\n",
    "\n",
    "X1 = ['constant', 'avexpr']\n",
    "X2 = ['constant', 'avexpr', 'lat_abst']\n",
    "X3 = ['constant', 'avexpr', 'lat_abst', 'asia', 'africa', 'other']\n",
    "\n",
    "regression_2 = sm.OLS(ajr2_df['logpgp95'], ajr2_df[X1], missing='drop').fit()\n",
    "regression_3 = sm.OLS(ajr2_df['logpgp95'], ajr2_df[X2], missing='drop').fit()\n",
    "regression_4 = sm.OLS(ajr2_df['logpgp95'], ajr2_df[X3], missing='drop').fit()\n",
    "\n",
    "info_dict={'R-squared' : lambda x: f\"{x.rsquared:.2f}\",\n",
    "           'No. observations' : lambda x: f\"{int(x.nobs):d}\"}\n",
    "\n",
    "results_table = summary_col(results=[regression_2, regression_3, regression_4],\n",
    "                            float_format='%0.2f',\n",
    "                            stars = True,\n",
    "                            model_names=['Model 1',\n",
    "                                         'Model 3',\n",
    "                                         'Model 4'],\n",
    "                            info_dict=info_dict,\n",
    "                            regressor_order=['constant',\n",
    "                                             'avexpr',\n",
    "                                             'lat_abst',\n",
    "                                             'asia',\n",
    "                                             'africa'])\n",
    "\n",
    "results_table.add_title('Table 2 - OLS Regressions')\n",
    "\n",
    "print(results_table)"
   ]
  },
  {
   "cell_type": "code",
   "execution_count": null,
   "metadata": {
    "hide-output": false
   },
   "outputs": [],
   "source": [
    "# Dropping NA's is required to use numpy's polyfit\n",
    "df1_subset2 = ajr_df.dropna(subset=['logem4', 'avexpr'])\n",
    "\n",
    "X = df1_subset2['logem4']\n",
    "y = df1_subset2['avexpr']\n",
    "labels = df1_subset2['shortnam']\n",
    "\n",
    "# Replace markers with country labels\n",
    "fig, ax = plt.subplots()\n",
    "ax.scatter(X, y, marker='')\n",
    "\n",
    "for i, label in enumerate(labels):\n",
    "    ax.annotate(label, (X.iloc[i], y.iloc[i]))\n",
    "\n",
    "# Fit a linear trend line\n",
    "ax.plot(np.unique(X),\n",
    "         np.poly1d(np.polyfit(X, y, 1))(np.unique(X)),\n",
    "         color='black')\n",
    "\n",
    "ax.set_xlim([1.8,8.4])\n",
    "ax.set_ylim([3.3,10.4])\n",
    "ax.set_xlabel('Log of Settler Mortality')\n",
    "ax.set_ylabel('Average Expropriation Risk 1985-95')\n",
    "ax.set_title('Figure 3: First-stage relationship between settler mortality \\\n",
    "    and expropriation risk')\n",
    "plt.show()"
   ]
  },
  {
   "cell_type": "code",
   "execution_count": null,
   "metadata": {
    "hide-output": false
   },
   "outputs": [],
   "source": [
    "df4 = pd.read_stata('https://github.com/QuantEcon/QuantEcon.lectures.code/raw/master/ols/maketable4.dta')\n",
    "df4 = df4[df4['baseco'] == 1]\n",
    "df4['const'] = 1\n",
    "\n",
    "iv = IV2SLS(dependent=df4['logpgp95'],\n",
    "            exog=df4['const'],\n",
    "            endog=df4['avexpr'],\n",
    "            instruments=df4['logem4']).fit(cov_type='unadjusted')\n",
    "\n",
    "print(iv.summary)"
   ]
  },
  {
   "cell_type": "markdown",
   "metadata": {},
   "source": [
    "# Deep Roots of Relative Development"
   ]
  },
  {
   "cell_type": "markdown",
   "metadata": {},
   "source": [
    "## Catch Our Breath—Further Notes:\n",
    "\n",
    "![_static/skitch.png](_static/skitch.png)  \n",
    "- weblog support:\n",
    "  [https://github.com/braddelong/LS2019/blob/master/Deep-Roots-of-Relative-Development.ipynb](https://github.com/braddelong/LS2019/blob/master/Deep-Roots-of-Relative-Development.ipynb)  \n",
    "- nbViewer:\n",
    "  [https://nbviewer.jupyter.org/github/braddelong/LS2019/blob/master/Deep-Roots-of-Relative-Development.ipynb](https://nbviewer.jupyter.org/github/braddelong/LS2019/blob/master/Deep-Roots-of-Relative-Development.ipynb)  \n",
    "- datahub:\n",
    "  [http://datahub.berkeley.edu/user-redirect/interact?account=braddelong&repo=LS2019&branch=master&path=Deep-Roots-of-Relative-Development.ipynb](http://datahub.berkeley.edu/user-redirect/interact?account=braddelong&repo=LS2019&branch=master&path=Deep-Roots-of-Relative-Development.ipynb)  "
   ]
  },
  {
   "cell_type": "code",
   "execution_count": null,
   "metadata": {
    "hide-output": false
   },
   "outputs": [],
   "source": [
    "pwt91_df = pd.read_csv('https://delong.typepad.com/files/pwt91-data.csv')"
   ]
  },
  {
   "cell_type": "code",
   "execution_count": null,
   "metadata": {
    "hide-output": false
   },
   "outputs": [],
   "source": [
    "pwt91_df.head()"
   ]
  }
 ],
 "metadata": {
  "date": 1575027411.5450041,
  "filename": "relative_development.rst",
  "kernelspec": {
   "display_name": "Python",
   "language": "python3",
   "name": "python3"
  },
  "title": "DeLong: Teaching Economics"
 },
 "nbformat": 4,
 "nbformat_minor": 2
}